{
 "cells": [
  {
   "cell_type": "code",
   "execution_count": 1,
   "id": "c0d57134-6696-4ee2-ba8a-81d6a875406d",
   "metadata": {},
   "outputs": [],
   "source": [
    "import pandas as pd"
   ]
  },
  {
   "cell_type": "code",
   "execution_count": 3,
   "id": "b09d157f-2b43-4bc8-8efc-c5e351ed2f3a",
   "metadata": {},
   "outputs": [
    {
     "ename": "AttributeError",
     "evalue": "module 'pandas' has no attribute 'read_xlsx'",
     "output_type": "error",
     "traceback": [
      "\u001b[1;31m---------------------------------------------------------------------------\u001b[0m",
      "\u001b[1;31mAttributeError\u001b[0m                            Traceback (most recent call last)",
      "Cell \u001b[1;32mIn[3], line 1\u001b[0m\n\u001b[1;32m----> 1\u001b[0m \u001b[43mpd\u001b[49m\u001b[38;5;241;43m.\u001b[39;49m\u001b[43mread_xlsx\u001b[49m(\u001b[38;5;124m'\u001b[39m\u001b[38;5;124m2tech_interview_questions\u001b[39m\u001b[38;5;124m'\u001b[39m)\n",
      "\u001b[1;31mAttributeError\u001b[0m: module 'pandas' has no attribute 'read_xlsx'"
     ]
    }
   ],
   "source": [
    "pd.read_xlsx('2tech_interview_questions')"
   ]
  },
  {
   "cell_type": "code",
   "execution_count": 21,
   "id": "96227cc8-9f51-44d5-87e0-fe4e5f14cd6b",
   "metadata": {},
   "outputs": [],
   "source": [
    "df = pd.read_excel('6tech_interview_questions.xlsx', engine='openpyxl')"
   ]
  },
  {
   "cell_type": "code",
   "execution_count": 22,
   "id": "caaffc26-1612-44db-8fc2-1daec32f322b",
   "metadata": {
    "scrolled": true
   },
   "outputs": [
    {
     "data": {
      "text/html": [
       "<div>\n",
       "<style scoped>\n",
       "    .dataframe tbody tr th:only-of-type {\n",
       "        vertical-align: middle;\n",
       "    }\n",
       "\n",
       "    .dataframe tbody tr th {\n",
       "        vertical-align: top;\n",
       "    }\n",
       "\n",
       "    .dataframe thead th {\n",
       "        text-align: right;\n",
       "    }\n",
       "</style>\n",
       "<table border=\"1\" class=\"dataframe\">\n",
       "  <thead>\n",
       "    <tr style=\"text-align: right;\">\n",
       "      <th></th>\n",
       "      <th>question</th>\n",
       "      <th>category</th>\n",
       "    </tr>\n",
       "  </thead>\n",
       "  <tbody>\n",
       "    <tr>\n",
       "      <th>0</th>\n",
       "      <td>고유값(eigen value)와 고유벡터(eigen vector)에 대해 설명해주세...</td>\n",
       "      <td>데이터 분석가</td>\n",
       "    </tr>\n",
       "    <tr>\n",
       "      <th>1</th>\n",
       "      <td>샘플링(Sampling)과 리샘플링(Resampling)에 대해 설명해주세요. 리샘...</td>\n",
       "      <td>데이터 분석가</td>\n",
       "    </tr>\n",
       "    <tr>\n",
       "      <th>2</th>\n",
       "      <td>확률 모형과 확률 변수는 무엇일까요?</td>\n",
       "      <td>데이터 분석가</td>\n",
       "    </tr>\n",
       "    <tr>\n",
       "      <th>3</th>\n",
       "      <td>누적 분포 함수와 확률 밀도 함수는 무엇일까요? 수식과 함께 표현해주세요</td>\n",
       "      <td>데이터 분석가</td>\n",
       "    </tr>\n",
       "    <tr>\n",
       "      <th>4</th>\n",
       "      <td>베르누이 분포 / 이항 분포 / 카테고리 분포 / 다항 분포 / 가우시안 정규 분포...</td>\n",
       "      <td>데이터 분석가</td>\n",
       "    </tr>\n",
       "    <tr>\n",
       "      <th>...</th>\n",
       "      <td>...</td>\n",
       "      <td>...</td>\n",
       "    </tr>\n",
       "    <tr>\n",
       "      <th>267</th>\n",
       "      <td>인터뷰나 강의에 활용하기 위한 백데이터는 어느 수준까지 일반화 해서 사용해야 할까요?</td>\n",
       "      <td>프론트앤드</td>\n",
       "    </tr>\n",
       "    <tr>\n",
       "      <th>268</th>\n",
       "      <td>고객사가 우리와 일하고 싶은데 현재는 capa가 되지 않습니다. 어떻게 대처해야 할까요?</td>\n",
       "      <td>프론트앤드</td>\n",
       "    </tr>\n",
       "    <tr>\n",
       "      <th>269</th>\n",
       "      <td>어떤 정보들이 개인정보에 해당할까요? ID는 개인정보에 해당할까요? 이를 어기지 않...</td>\n",
       "      <td>백앤드</td>\n",
       "    </tr>\n",
       "    <tr>\n",
       "      <th>270</th>\n",
       "      <td>국내 개인 정보 보호 현황에 대한 견해는 어떠한지요? 만약 사업을 진행하는데 장애요...</td>\n",
       "      <td>백앤드</td>\n",
       "    </tr>\n",
       "    <tr>\n",
       "      <th>271</th>\n",
       "      <td>제3자 쿠키는 왜 문제가 되나요?</td>\n",
       "      <td>백앤드</td>\n",
       "    </tr>\n",
       "  </tbody>\n",
       "</table>\n",
       "<p>272 rows × 2 columns</p>\n",
       "</div>"
      ],
      "text/plain": [
       "                                              question category\n",
       "0    고유값(eigen value)와 고유벡터(eigen vector)에 대해 설명해주세...  데이터 분석가\n",
       "1    샘플링(Sampling)과 리샘플링(Resampling)에 대해 설명해주세요. 리샘...  데이터 분석가\n",
       "2                                 확률 모형과 확률 변수는 무엇일까요?  데이터 분석가\n",
       "3             누적 분포 함수와 확률 밀도 함수는 무엇일까요? 수식과 함께 표현해주세요  데이터 분석가\n",
       "4    베르누이 분포 / 이항 분포 / 카테고리 분포 / 다항 분포 / 가우시안 정규 분포...  데이터 분석가\n",
       "..                                                 ...      ...\n",
       "267    인터뷰나 강의에 활용하기 위한 백데이터는 어느 수준까지 일반화 해서 사용해야 할까요?    프론트앤드\n",
       "268  고객사가 우리와 일하고 싶은데 현재는 capa가 되지 않습니다. 어떻게 대처해야 할까요?    프론트앤드\n",
       "269  어떤 정보들이 개인정보에 해당할까요? ID는 개인정보에 해당할까요? 이를 어기지 않...      백앤드\n",
       "270  국내 개인 정보 보호 현황에 대한 견해는 어떠한지요? 만약 사업을 진행하는데 장애요...      백앤드\n",
       "271                                 제3자 쿠키는 왜 문제가 되나요?      백앤드\n",
       "\n",
       "[272 rows x 2 columns]"
      ]
     },
     "execution_count": 22,
     "metadata": {},
     "output_type": "execute_result"
    }
   ],
   "source": [
    "df"
   ]
  },
  {
   "cell_type": "code",
   "execution_count": 24,
   "id": "b35a8b99-87e7-4d0f-a5fe-9ef190961685",
   "metadata": {},
   "outputs": [],
   "source": [
    "df_all=[]\n",
    "for i in range(7):\n",
    "    df=pd.read_excel('{0}tech_interview_questions.xlsx'.format(i+1), engine='openpyxl')\n",
    "    df_all.append(df)\n",
    "\n",
    "interview_data=pd.concat(df_all)"
   ]
  },
  {
   "cell_type": "code",
   "execution_count": 25,
   "id": "704389e9-a4e3-411c-a374-d193d74e56c6",
   "metadata": {},
   "outputs": [
    {
     "data": {
      "text/html": [
       "<div>\n",
       "<style scoped>\n",
       "    .dataframe tbody tr th:only-of-type {\n",
       "        vertical-align: middle;\n",
       "    }\n",
       "\n",
       "    .dataframe tbody tr th {\n",
       "        vertical-align: top;\n",
       "    }\n",
       "\n",
       "    .dataframe thead th {\n",
       "        text-align: right;\n",
       "    }\n",
       "</style>\n",
       "<table border=\"1\" class=\"dataframe\">\n",
       "  <thead>\n",
       "    <tr style=\"text-align: right;\">\n",
       "      <th></th>\n",
       "      <th>question</th>\n",
       "      <th>category</th>\n",
       "    </tr>\n",
       "  </thead>\n",
       "  <tbody>\n",
       "    <tr>\n",
       "      <th>0</th>\n",
       "      <td>tcp/udp의 차이점을 설명하라</td>\n",
       "      <td>백엔드</td>\n",
       "    </tr>\n",
       "    <tr>\n",
       "      <th>1</th>\n",
       "      <td>흐름제어기법중 슬라이딩 윈도우 방식에대해 설명하라</td>\n",
       "      <td>백엔드</td>\n",
       "    </tr>\n",
       "    <tr>\n",
       "      <th>2</th>\n",
       "      <td>브라우저에 네이버홈페이지 url을 입력했을때 일어나는 과정을 설명해라</td>\n",
       "      <td>백엔드</td>\n",
       "    </tr>\n",
       "    <tr>\n",
       "      <th>3</th>\n",
       "      <td>OSI 7계층에대해 설명하여라</td>\n",
       "      <td>백엔드</td>\n",
       "    </tr>\n",
       "    <tr>\n",
       "      <th>4</th>\n",
       "      <td>Restful API란?</td>\n",
       "      <td>백엔드</td>\n",
       "    </tr>\n",
       "    <tr>\n",
       "      <th>...</th>\n",
       "      <td>...</td>\n",
       "      <td>...</td>\n",
       "    </tr>\n",
       "    <tr>\n",
       "      <th>272</th>\n",
       "      <td>데이터 분석 관련 CTO 경험을 설명해주세요.</td>\n",
       "      <td>데이터 분석가</td>\n",
       "    </tr>\n",
       "    <tr>\n",
       "      <th>273</th>\n",
       "      <td>데이터 분석 관련 CEO 경험을 설명해주세요.</td>\n",
       "      <td>데이터 분석가</td>\n",
       "    </tr>\n",
       "    <tr>\n",
       "      <th>274</th>\n",
       "      <td>데이터 분석 관련 변호사 경험을 설명해주세요.</td>\n",
       "      <td>데이터 분석가</td>\n",
       "    </tr>\n",
       "    <tr>\n",
       "      <th>275</th>\n",
       "      <td>데이터 분석 관련 회계사 경험을 설명해주세요.</td>\n",
       "      <td>데이터 분석가</td>\n",
       "    </tr>\n",
       "    <tr>\n",
       "      <th>276</th>\n",
       "      <td>데이터 분석 관련 의사 경험을 설명해주세요.</td>\n",
       "      <td>데이터 분석가</td>\n",
       "    </tr>\n",
       "  </tbody>\n",
       "</table>\n",
       "<p>1497 rows × 2 columns</p>\n",
       "</div>"
      ],
      "text/plain": [
       "                                   question category\n",
       "0                        tcp/udp의 차이점을 설명하라      백엔드\n",
       "1               흐름제어기법중 슬라이딩 윈도우 방식에대해 설명하라      백엔드\n",
       "2    브라우저에 네이버홈페이지 url을 입력했을때 일어나는 과정을 설명해라      백엔드\n",
       "3                          OSI 7계층에대해 설명하여라      백엔드\n",
       "4                             Restful API란?      백엔드\n",
       "..                                      ...      ...\n",
       "272               데이터 분석 관련 CTO 경험을 설명해주세요.  데이터 분석가\n",
       "273               데이터 분석 관련 CEO 경험을 설명해주세요.  데이터 분석가\n",
       "274               데이터 분석 관련 변호사 경험을 설명해주세요.  데이터 분석가\n",
       "275               데이터 분석 관련 회계사 경험을 설명해주세요.  데이터 분석가\n",
       "276                데이터 분석 관련 의사 경험을 설명해주세요.  데이터 분석가\n",
       "\n",
       "[1497 rows x 2 columns]"
      ]
     },
     "execution_count": 25,
     "metadata": {},
     "output_type": "execute_result"
    }
   ],
   "source": [
    "interview_data"
   ]
  },
  {
   "cell_type": "code",
   "execution_count": null,
   "id": "ce156c30-6809-49b4-8ed6-fbb63a9834e4",
   "metadata": {},
   "outputs": [],
   "source": []
  }
 ],
 "metadata": {
  "kernelspec": {
   "display_name": "Python 3 (ipykernel)",
   "language": "python",
   "name": "python3"
  },
  "language_info": {
   "codemirror_mode": {
    "name": "ipython",
    "version": 3
   },
   "file_extension": ".py",
   "mimetype": "text/x-python",
   "name": "python",
   "nbconvert_exporter": "python",
   "pygments_lexer": "ipython3",
   "version": "3.9.21"
  }
 },
 "nbformat": 4,
 "nbformat_minor": 5
}
