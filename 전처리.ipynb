{
 "cells": [
  {
   "cell_type": "code",
   "execution_count": 32,
   "id": "b35a8b99-87e7-4d0f-a5fe-9ef190961685",
   "metadata": {},
   "outputs": [],
   "source": [
    "import pandas as pd\n",
    "\n",
    "interview_data=pd.read_excel('deduplicated_tech_interview_questions.xlsx')"
   ]
  },
  {
   "cell_type": "code",
   "execution_count": 8,
   "id": "704389e9-a4e3-411c-a374-d193d74e56c6",
   "metadata": {
    "scrolled": true
   },
   "outputs": [
    {
     "name": "stdout",
     "output_type": "stream",
     "text": [
      "<class 'pandas.core.frame.DataFrame'>\n",
      "RangeIndex: 1497 entries, 0 to 1496\n",
      "Data columns (total 2 columns):\n",
      " #   Column    Non-Null Count  Dtype \n",
      "---  ------    --------------  ----- \n",
      " 0   question  1496 non-null   object\n",
      " 1   category  1496 non-null   object\n",
      "dtypes: object(2)\n",
      "memory usage: 23.5+ KB\n"
     ]
    }
   ],
   "source": [
    "interview_data.info()"
   ]
  },
  {
   "cell_type": "code",
   "execution_count": 33,
   "id": "7ae23798-2457-4992-94d7-6ea76b32db65",
   "metadata": {},
   "outputs": [
    {
     "data": {
      "text/plain": [
       "category\n",
       "백엔드           691\n",
       "데이터 사이언티스트    248\n",
       "프론트엔드         228\n",
       "데이터 엔지니어      151\n",
       "데이터 분석가       140\n",
       "Name: count, dtype: int64"
      ]
     },
     "execution_count": 33,
     "metadata": {},
     "output_type": "execute_result"
    }
   ],
   "source": [
    "interview_data['category'].value_counts()"
   ]
  },
  {
   "cell_type": "code",
   "execution_count": 34,
   "id": "ce156c30-6809-49b4-8ed6-fbb63a9834e4",
   "metadata": {},
   "outputs": [
    {
     "data": {
      "text/plain": [
       "['tcp', '/', 'udp', '의', '차이점', '을', '설명', '하라']"
      ]
     },
     "execution_count": 34,
     "metadata": {},
     "output_type": "execute_result"
    }
   ],
   "source": [
    "from konlpy.tag import Okt\n",
    "\n",
    "\n",
    "okt=Okt()\n",
    "def okt_tokenizer(sentence):\n",
    "    okt_token=okt.morphs(sentence)\n",
    "    return okt_token\n",
    "\n",
    "okt_tokenizer(interview_data.iloc[0,0])\n",
    "\n"
   ]
  },
  {
   "cell_type": "code",
   "execution_count": 35,
   "id": "8ba8b7d2-a624-4205-98f4-d424e88cc053",
   "metadata": {
    "scrolled": true
   },
   "outputs": [],
   "source": [
    "interview_data['question']= interview_data['question'].apply(lambda x: str(x) if isinstance(x, (int, float)) else x)"
   ]
  },
  {
   "cell_type": "code",
   "execution_count": 36,
   "id": "0828390f-d0f4-4e84-ad62-05c7c6b9fbac",
   "metadata": {
    "scrolled": true
   },
   "outputs": [
    {
     "name": "stdout",
     "output_type": "stream",
     "text": [
      "<class 'pandas.core.series.Series'>\n",
      "RangeIndex: 1458 entries, 0 to 1457\n",
      "Series name: question\n",
      "Non-Null Count  Dtype \n",
      "--------------  ----- \n",
      "1458 non-null   object\n",
      "dtypes: object(1)\n",
      "memory usage: 11.5+ KB\n"
     ]
    }
   ],
   "source": [
    "interview_data['question'].info()"
   ]
  },
  {
   "cell_type": "code",
   "execution_count": 37,
   "id": "93ad2575-18f1-499e-8943-2ab9c2b9d71b",
   "metadata": {},
   "outputs": [
    {
     "data": {
      "text/plain": [
       "str"
      ]
     },
     "execution_count": 37,
     "metadata": {},
     "output_type": "execute_result"
    }
   ],
   "source": [
    "type(interview_data['question'].iloc[0])"
   ]
  },
  {
   "cell_type": "code",
   "execution_count": 38,
   "id": "465cc4a2-194d-4ce7-8d64-42ff7cfbb788",
   "metadata": {},
   "outputs": [],
   "source": [
    "question_cleasinged=interview_data['question'].values.astype('str')"
   ]
  },
  {
   "cell_type": "code",
   "execution_count": 39,
   "id": "ecd42a22-8f95-4839-95ab-6ae2d2341466",
   "metadata": {},
   "outputs": [
    {
     "data": {
      "text/plain": [
       "array(['tcp/udp의 차이점을 설명하라', '흐름제어기법중 슬라이딩 윈도우 방식에대해 설명하라',\n",
       "       '브라우저에 네이버홈페이지 url을 입력했을때 일어나는 과정을 설명해라', ...,\n",
       "       '어떤 정보들이 개인정보에 해당할까요? ID는 개인정보에 해당할까요? 이를 어기지 않는 합법적 방법으로 식별하고 싶으면 어떻게 해야할까요?',\n",
       "       '국내 개인 정보 보호 현황에 대한 견해는 어떠한지요? 만약 사업을 진행하는데 장애요소로 작용한다면, 이에 대한 해결 방안은 어떤 것이 있을까요?',\n",
       "       '제3자 쿠키는 왜 문제가 되나요?'], dtype='<U192')"
      ]
     },
     "execution_count": 39,
     "metadata": {},
     "output_type": "execute_result"
    }
   ],
   "source": [
    "question_cleasinged"
   ]
  },
  {
   "cell_type": "code",
   "execution_count": 40,
   "id": "df9d93d6-7eb9-4064-a42c-5e9e85ec6aa5",
   "metadata": {},
   "outputs": [
    {
     "name": "stderr",
     "output_type": "stream",
     "text": [
      "c:\\Users\\82106\\anaconda3\\lib\\site-packages\\sklearn\\feature_extraction\\text.py:521: UserWarning: The parameter 'token_pattern' will not be used since 'tokenizer' is not None'\n",
      "  warnings.warn(\n"
     ]
    },
    {
     "data": {
      "text/plain": [
       "<1458x11312 sparse matrix of type '<class 'numpy.float64'>'\n",
       "\twith 34240 stored elements in Compressed Sparse Row format>"
      ]
     },
     "execution_count": 40,
     "metadata": {},
     "output_type": "execute_result"
    }
   ],
   "source": [
    "from sklearn.feature_extraction.text import TfidfVectorizer\n",
    "\n",
    "\n",
    "tfidf=TfidfVectorizer(tokenizer=okt_tokenizer,ngram_range=(1,2) ,lowercase=False,)\n",
    "tfidf.fit(question_cleasinged)\n",
    "tfidf_interview_data=tfidf.transform(question_cleasinged)\n",
    "tfidf_interview_data"
   ]
  },
  {
   "cell_type": "code",
   "execution_count": 41,
   "id": "3dc08328-a3b2-4f46-8060-f3e6443e74a2",
   "metadata": {},
   "outputs": [
    {
     "data": {
      "text/plain": [
       "(1458, 11312)"
      ]
     },
     "execution_count": 41,
     "metadata": {},
     "output_type": "execute_result"
    }
   ],
   "source": [
    "tfidf_interview_data.shape"
   ]
  },
  {
   "cell_type": "code",
   "execution_count": 42,
   "id": "dd0ee4cc-f22b-41c9-a54c-779c22ad33bc",
   "metadata": {},
   "outputs": [
    {
     "data": {
      "text/plain": [
       "array([[0., 0., 0., ..., 0., 0., 0.],\n",
       "       [0., 0., 0., ..., 0., 0., 0.],\n",
       "       [0., 0., 0., ..., 0., 0., 0.],\n",
       "       ...,\n",
       "       [0., 0., 0., ..., 0., 0., 0.],\n",
       "       [0., 0., 0., ..., 0., 0., 0.],\n",
       "       [0., 0., 0., ..., 0., 0., 0.]])"
      ]
     },
     "execution_count": 42,
     "metadata": {},
     "output_type": "execute_result"
    }
   ],
   "source": [
    "tfidf_interview_data.toarray()"
   ]
  },
  {
   "cell_type": "code",
   "execution_count": 43,
   "id": "7b750fa9-54e4-4d35-a1c6-1b2ff97f5792",
   "metadata": {},
   "outputs": [
    {
     "name": "stdout",
     "output_type": "stream",
     "text": [
      "인코딩 변환값: [3 3 3 ... 3 3 3]\n"
     ]
    }
   ],
   "source": [
    "from sklearn.preprocessing import LabelEncoder\n",
    "\n",
    "category=interview_data['category'].values\n",
    "# LabelEncoder를 객체로 생성한 후 , fit( ) 과 transform( ) 으로 label 인코딩 수행. \n",
    "encoder = LabelEncoder()\n",
    "encoder.fit(category)#리스트 내용을 학습\n",
    "category_encoded = encoder.transform(category)#숫자로 변환\n",
    "print('인코딩 변환값:',category_encoded)"
   ]
  },
  {
   "cell_type": "code",
   "execution_count": 44,
   "id": "6913572c",
   "metadata": {},
   "outputs": [
    {
     "data": {
      "text/plain": [
       "Index(['백엔드', '데이터 사이언티스트', '프론트엔드', '데이터 엔지니어', '데이터 분석가'], dtype='object', name='category')"
      ]
     },
     "execution_count": 44,
     "metadata": {},
     "output_type": "execute_result"
    }
   ],
   "source": [
    "interview_data['category'].value_counts().index"
   ]
  },
  {
   "cell_type": "code",
   "execution_count": 45,
   "id": "4d2ea0b7",
   "metadata": {},
   "outputs": [
    {
     "name": "stdout",
     "output_type": "stream",
     "text": [
      "인코딩 클래스: ['데이터 분석가' '데이터 사이언티스트' '데이터 엔지니어' '백엔드' '프론트엔드']\n"
     ]
    }
   ],
   "source": [
    "print('인코딩 클래스:',encoder.classes_)"
   ]
  },
  {
   "cell_type": "code",
   "execution_count": 46,
   "id": "442e6ed1-dfeb-4e07-a038-7efcad69a4db",
   "metadata": {},
   "outputs": [
    {
     "name": "stdout",
     "output_type": "stream",
     "text": [
      "디코딩 원본 값: ['데이터 분석가' '데이터 사이언티스트' '데이터 엔지니어' '백엔드' '프론트엔드']\n"
     ]
    }
   ],
   "source": [
    "print('디코딩 원본 값:',encoder.inverse_transform([0,1,2,3,4]))"
   ]
  },
  {
   "cell_type": "code",
   "execution_count": 47,
   "id": "252a571d-a876-4860-aba1-d18e05c6d440",
   "metadata": {},
   "outputs": [
    {
     "data": {
      "text/plain": [
       "array([3, 3, 3, ..., 3, 3, 3])"
      ]
     },
     "execution_count": 47,
     "metadata": {},
     "output_type": "execute_result"
    }
   ],
   "source": [
    "category_encoded"
   ]
  },
  {
   "cell_type": "code",
   "execution_count": 48,
   "id": "141c3e17-f23a-4a48-9949-77dea2be5374",
   "metadata": {},
   "outputs": [],
   "source": [
    "interview_data['category_encoded']=category_encoded"
   ]
  },
  {
   "cell_type": "code",
   "execution_count": 49,
   "id": "ddafdad3-10fc-4210-9fe7-9ed02c9f5cc0",
   "metadata": {},
   "outputs": [
    {
     "data": {
      "text/html": [
       "<div>\n",
       "<style scoped>\n",
       "    .dataframe tbody tr th:only-of-type {\n",
       "        vertical-align: middle;\n",
       "    }\n",
       "\n",
       "    .dataframe tbody tr th {\n",
       "        vertical-align: top;\n",
       "    }\n",
       "\n",
       "    .dataframe thead th {\n",
       "        text-align: right;\n",
       "    }\n",
       "</style>\n",
       "<table border=\"1\" class=\"dataframe\">\n",
       "  <thead>\n",
       "    <tr style=\"text-align: right;\">\n",
       "      <th></th>\n",
       "      <th>question</th>\n",
       "      <th>category</th>\n",
       "      <th>category_encoded</th>\n",
       "    </tr>\n",
       "  </thead>\n",
       "  <tbody>\n",
       "    <tr>\n",
       "      <th>0</th>\n",
       "      <td>tcp/udp의 차이점을 설명하라</td>\n",
       "      <td>백엔드</td>\n",
       "      <td>3</td>\n",
       "    </tr>\n",
       "    <tr>\n",
       "      <th>1</th>\n",
       "      <td>흐름제어기법중 슬라이딩 윈도우 방식에대해 설명하라</td>\n",
       "      <td>백엔드</td>\n",
       "      <td>3</td>\n",
       "    </tr>\n",
       "    <tr>\n",
       "      <th>2</th>\n",
       "      <td>브라우저에 네이버홈페이지 url을 입력했을때 일어나는 과정을 설명해라</td>\n",
       "      <td>백엔드</td>\n",
       "      <td>3</td>\n",
       "    </tr>\n",
       "    <tr>\n",
       "      <th>3</th>\n",
       "      <td>OSI 7계층에대해 설명하여라</td>\n",
       "      <td>백엔드</td>\n",
       "      <td>3</td>\n",
       "    </tr>\n",
       "    <tr>\n",
       "      <th>4</th>\n",
       "      <td>Restful API란?</td>\n",
       "      <td>백엔드</td>\n",
       "      <td>3</td>\n",
       "    </tr>\n",
       "    <tr>\n",
       "      <th>...</th>\n",
       "      <td>...</td>\n",
       "      <td>...</td>\n",
       "      <td>...</td>\n",
       "    </tr>\n",
       "    <tr>\n",
       "      <th>1453</th>\n",
       "      <td>인터뷰나 강의에 활용하기 위한 백데이터는 어느 수준까지 일반화 해서 사용해야 할까요?</td>\n",
       "      <td>프론트엔드</td>\n",
       "      <td>4</td>\n",
       "    </tr>\n",
       "    <tr>\n",
       "      <th>1454</th>\n",
       "      <td>고객사가 우리와 일하고 싶은데 현재는 capa가 되지 않습니다. 어떻게 대처해야 할까요?</td>\n",
       "      <td>프론트엔드</td>\n",
       "      <td>4</td>\n",
       "    </tr>\n",
       "    <tr>\n",
       "      <th>1455</th>\n",
       "      <td>어떤 정보들이 개인정보에 해당할까요? ID는 개인정보에 해당할까요? 이를 어기지 않...</td>\n",
       "      <td>백엔드</td>\n",
       "      <td>3</td>\n",
       "    </tr>\n",
       "    <tr>\n",
       "      <th>1456</th>\n",
       "      <td>국내 개인 정보 보호 현황에 대한 견해는 어떠한지요? 만약 사업을 진행하는데 장애요...</td>\n",
       "      <td>백엔드</td>\n",
       "      <td>3</td>\n",
       "    </tr>\n",
       "    <tr>\n",
       "      <th>1457</th>\n",
       "      <td>제3자 쿠키는 왜 문제가 되나요?</td>\n",
       "      <td>백엔드</td>\n",
       "      <td>3</td>\n",
       "    </tr>\n",
       "  </tbody>\n",
       "</table>\n",
       "<p>1458 rows × 3 columns</p>\n",
       "</div>"
      ],
      "text/plain": [
       "                                               question category  \\\n",
       "0                                    tcp/udp의 차이점을 설명하라      백엔드   \n",
       "1                           흐름제어기법중 슬라이딩 윈도우 방식에대해 설명하라      백엔드   \n",
       "2                브라우저에 네이버홈페이지 url을 입력했을때 일어나는 과정을 설명해라      백엔드   \n",
       "3                                      OSI 7계층에대해 설명하여라      백엔드   \n",
       "4                                         Restful API란?      백엔드   \n",
       "...                                                 ...      ...   \n",
       "1453    인터뷰나 강의에 활용하기 위한 백데이터는 어느 수준까지 일반화 해서 사용해야 할까요?    프론트엔드   \n",
       "1454  고객사가 우리와 일하고 싶은데 현재는 capa가 되지 않습니다. 어떻게 대처해야 할까요?    프론트엔드   \n",
       "1455  어떤 정보들이 개인정보에 해당할까요? ID는 개인정보에 해당할까요? 이를 어기지 않...      백엔드   \n",
       "1456  국내 개인 정보 보호 현황에 대한 견해는 어떠한지요? 만약 사업을 진행하는데 장애요...      백엔드   \n",
       "1457                                 제3자 쿠키는 왜 문제가 되나요?      백엔드   \n",
       "\n",
       "      category_encoded  \n",
       "0                    3  \n",
       "1                    3  \n",
       "2                    3  \n",
       "3                    3  \n",
       "4                    3  \n",
       "...                ...  \n",
       "1453                 4  \n",
       "1454                 4  \n",
       "1455                 3  \n",
       "1456                 3  \n",
       "1457                 3  \n",
       "\n",
       "[1458 rows x 3 columns]"
      ]
     },
     "execution_count": 49,
     "metadata": {},
     "output_type": "execute_result"
    }
   ],
   "source": [
    "interview_data"
   ]
  },
  {
   "cell_type": "code",
   "execution_count": 50,
   "id": "c3982059-8c0a-4d21-b7c1-7bae3e65a275",
   "metadata": {},
   "outputs": [
    {
     "data": {
      "text/plain": [
       "array([[0., 0., 0., ..., 0., 0., 0.],\n",
       "       [0., 0., 0., ..., 0., 0., 0.],\n",
       "       [0., 0., 0., ..., 0., 0., 0.],\n",
       "       ...,\n",
       "       [0., 0., 0., ..., 0., 0., 0.],\n",
       "       [0., 0., 0., ..., 0., 0., 0.],\n",
       "       [0., 0., 0., ..., 0., 0., 0.]])"
      ]
     },
     "execution_count": 50,
     "metadata": {},
     "output_type": "execute_result"
    }
   ],
   "source": [
    "tfidf_interview_data.toarray()"
   ]
  },
  {
   "cell_type": "code",
   "execution_count": null,
   "id": "fd952140",
   "metadata": {},
   "outputs": [],
   "source": []
  }
 ],
 "metadata": {
  "kernelspec": {
   "display_name": "base",
   "language": "python",
   "name": "python3"
  },
  "language_info": {
   "codemirror_mode": {
    "name": "ipython",
    "version": 3
   },
   "file_extension": ".py",
   "mimetype": "text/x-python",
   "name": "python",
   "nbconvert_exporter": "python",
   "pygments_lexer": "ipython3",
   "version": "3.9.21"
  }
 },
 "nbformat": 4,
 "nbformat_minor": 5
}
