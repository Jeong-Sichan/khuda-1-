{
 "cells": [
  {
   "cell_type": "code",
   "execution_count": 4,
   "id": "b35a8b99-87e7-4d0f-a5fe-9ef190961685",
   "metadata": {},
   "outputs": [],
   "source": [
    "import pandas as pd\n",
    "\n",
    "interview_data=pd.read_excel('merged_tech_interview_questions.xlsx')"
   ]
  },
  {
   "cell_type": "code",
   "execution_count": 6,
   "id": "704389e9-a4e3-411c-a374-d193d74e56c6",
   "metadata": {
    "scrolled": true
   },
   "outputs": [
    {
     "name": "stdout",
     "output_type": "stream",
     "text": [
      "<class 'pandas.core.frame.DataFrame'>\n",
      "RangeIndex: 1497 entries, 0 to 1496\n",
      "Data columns (total 2 columns):\n",
      " #   Column    Non-Null Count  Dtype \n",
      "---  ------    --------------  ----- \n",
      " 0   question  1496 non-null   object\n",
      " 1   category  1496 non-null   object\n",
      "dtypes: object(2)\n",
      "memory usage: 23.5+ KB\n"
     ]
    }
   ],
   "source": [
    "interview_data.info()"
   ]
  },
  {
   "cell_type": "code",
   "execution_count": 13,
   "id": "7ae23798-2457-4992-94d7-6ea76b32db65",
   "metadata": {},
   "outputs": [
    {
     "data": {
      "text/plain": [
       "category\n",
       "백엔드           489\n",
       "데이터 사이언티스트    249\n",
       "백앤드           230\n",
       "프론트앤드         205\n",
       "데이터 엔지니어      155\n",
       "데이터 분석가       141\n",
       "프론트엔드          27\n",
       "Name: count, dtype: int64"
      ]
     },
     "execution_count": 13,
     "metadata": {},
     "output_type": "execute_result"
    }
   ],
   "source": [
    "interview_data['category'].value_counts()"
   ]
  },
  {
   "cell_type": "code",
   "execution_count": 16,
   "id": "ce156c30-6809-49b4-8ed6-fbb63a9834e4",
   "metadata": {},
   "outputs": [
    {
     "data": {
      "text/plain": [
       "str"
      ]
     },
     "execution_count": 16,
     "metadata": {},
     "output_type": "execute_result"
    }
   ],
   "source": [
    "import re\n",
    "from konlpy.tag import Okt\n",
    "\n",
    "\n",
    "okt=Okt()\n",
    "def okt_tokenizer(document):\n",
    "    okt_token=okt.morphs(document)\n",
    "    return okt_token\n",
    "okt_tokenizer(interview_data.iloc[0,0])\n",
    "\n"
   ]
  },
  {
   "cell_type": "code",
   "execution_count": 31,
   "id": "8ba8b7d2-a624-4205-98f4-d424e88cc053",
   "metadata": {
    "scrolled": true
   },
   "outputs": [],
   "source": [
    "interview_data['question']= interview_data['question'].apply(lambda x: str(x) if isinstance(x, (int, float)) else x)"
   ]
  },
  {
   "cell_type": "code",
   "execution_count": 34,
   "id": "0828390f-d0f4-4e84-ad62-05c7c6b9fbac",
   "metadata": {
    "scrolled": true
   },
   "outputs": [
    {
     "name": "stdout",
     "output_type": "stream",
     "text": [
      "<class 'pandas.core.series.Series'>\n",
      "RangeIndex: 1497 entries, 0 to 1496\n",
      "Series name: question\n",
      "Non-Null Count  Dtype \n",
      "--------------  ----- \n",
      "1497 non-null   object\n",
      "dtypes: object(1)\n",
      "memory usage: 11.8+ KB\n"
     ]
    }
   ],
   "source": [
    "interview_data['question'].info()"
   ]
  },
  {
   "cell_type": "code",
   "execution_count": 38,
   "id": "93ad2575-18f1-499e-8943-2ab9c2b9d71b",
   "metadata": {},
   "outputs": [
    {
     "data": {
      "text/plain": [
       "str"
      ]
     },
     "execution_count": 38,
     "metadata": {},
     "output_type": "execute_result"
    }
   ],
   "source": [
    "type(interview_data['question'].iloc[])"
   ]
  },
  {
   "cell_type": "code",
   "execution_count": 42,
   "id": "465cc4a2-194d-4ce7-8d64-42ff7cfbb788",
   "metadata": {},
   "outputs": [],
   "source": [
    "question_cleasinged=interview_data['question'].values.astype('str')"
   ]
  },
  {
   "cell_type": "code",
   "execution_count": 43,
   "id": "ecd42a22-8f95-4839-95ab-6ae2d2341466",
   "metadata": {},
   "outputs": [
    {
     "data": {
      "text/plain": [
       "array(['tcp/udp의 차이점을 설명하라', '흐름제어기법중 슬라이딩 윈도우 방식에대해 설명하라',\n",
       "       '브라우저에 네이버홈페이지 url을 입력했을때 일어나는 과정을 설명해라', ...,\n",
       "       '어떤 정보들이 개인정보에 해당할까요? ID는 개인정보에 해당할까요? 이를 어기지 않는 합법적 방법으로 식별하고 싶으면 어떻게 해야할까요?',\n",
       "       '국내 개인 정보 보호 현황에 대한 견해는 어떠한지요? 만약 사업을 진행하는데 장애요소로 작용한다면, 이에 대한 해결 방안은 어떤 것이 있을까요?',\n",
       "       '제3자 쿠키는 왜 문제가 되나요?'], dtype='<U192')"
      ]
     },
     "execution_count": 43,
     "metadata": {},
     "output_type": "execute_result"
    }
   ],
   "source": [
    "question_cleasinged"
   ]
  },
  {
   "cell_type": "code",
   "execution_count": 52,
   "id": "df9d93d6-7eb9-4064-a42c-5e9e85ec6aa5",
   "metadata": {},
   "outputs": [
    {
     "data": {
      "text/plain": [
       "<1497x11321 sparse matrix of type '<class 'numpy.float64'>'\n",
       "\twith 35206 stored elements in Compressed Sparse Row format>"
      ]
     },
     "execution_count": 52,
     "metadata": {},
     "output_type": "execute_result"
    }
   ],
   "source": [
    "from sklearn.feature_extraction.text import TfidfVectorizer\n",
    "from sklearn.linear_model import LogisticRegression\n",
    "from sklearn.model_selection import GridSearchCV\n",
    "\n",
    "\n",
    "tfidf=TfidfVectorizer(tokenizer=okt_tokenizer,ngram_range=(1,2) ,lowercase=False,)\n",
    "tfidf.fit(question_cleasinged)\n",
    "tfidf_interview_data=tfidf.transform(question_cleasinged)\n",
    "tfidf_interview_data"
   ]
  },
  {
   "cell_type": "code",
   "execution_count": 54,
   "id": "3dc08328-a3b2-4f46-8060-f3e6443e74a2",
   "metadata": {},
   "outputs": [
    {
     "data": {
      "text/plain": [
       "(1497, 11321)"
      ]
     },
     "execution_count": 54,
     "metadata": {},
     "output_type": "execute_result"
    }
   ],
   "source": [
    "tfidf_interview_data.shape"
   ]
  },
  {
   "cell_type": "code",
   "execution_count": 58,
   "id": "dd0ee4cc-f22b-41c9-a54c-779c22ad33bc",
   "metadata": {},
   "outputs": [
    {
     "data": {
      "text/plain": [
       "array([[0., 0., 0., ..., 0., 0., 0.],\n",
       "       [0., 0., 0., ..., 0., 0., 0.],\n",
       "       [0., 0., 0., ..., 0., 0., 0.],\n",
       "       ...,\n",
       "       [0., 0., 0., ..., 0., 0., 0.],\n",
       "       [0., 0., 0., ..., 0., 0., 0.],\n",
       "       [0., 0., 0., ..., 0., 0., 0.]])"
      ]
     },
     "execution_count": 58,
     "metadata": {},
     "output_type": "execute_result"
    }
   ],
   "source": [
    "tfidf_interview_data.toarray()"
   ]
  },
  {
   "cell_type": "code",
   "execution_count": null,
   "id": "7b750fa9-54e4-4d35-a1c6-1b2ff97f5792",
   "metadata": {},
   "outputs": [],
   "source": []
  },
  {
   "cell_type": "code",
   "execution_count": null,
   "id": "442e6ed1-dfeb-4e07-a038-7efcad69a4db",
   "metadata": {},
   "outputs": [],
   "source": []
  },
  {
   "cell_type": "code",
   "execution_count": null,
   "id": "252a571d-a876-4860-aba1-d18e05c6d440",
   "metadata": {},
   "outputs": [],
   "source": []
  },
  {
   "cell_type": "code",
   "execution_count": null,
   "id": "141c3e17-f23a-4a48-9949-77dea2be5374",
   "metadata": {},
   "outputs": [],
   "source": []
  },
  {
   "cell_type": "code",
   "execution_count": null,
   "id": "ddafdad3-10fc-4210-9fe7-9ed02c9f5cc0",
   "metadata": {},
   "outputs": [],
   "source": []
  },
  {
   "cell_type": "code",
   "execution_count": 140,
   "id": "eb902166-d3ca-461e-94e9-4dcd10ef333b",
   "metadata": {},
   "outputs": [],
   "source": [
    "interview_df=pd.read_excel('merged_tech_interview_questions.xlsx', engine='openpyxl')"
   ]
  },
  {
   "cell_type": "code",
   "execution_count": 141,
   "id": "82755ce7-6569-4345-a055-53812b78caa1",
   "metadata": {},
   "outputs": [
    {
     "data": {
      "text/html": [
       "<div>\n",
       "<style scoped>\n",
       "    .dataframe tbody tr th:only-of-type {\n",
       "        vertical-align: middle;\n",
       "    }\n",
       "\n",
       "    .dataframe tbody tr th {\n",
       "        vertical-align: top;\n",
       "    }\n",
       "\n",
       "    .dataframe thead th {\n",
       "        text-align: right;\n",
       "    }\n",
       "</style>\n",
       "<table border=\"1\" class=\"dataframe\">\n",
       "  <thead>\n",
       "    <tr style=\"text-align: right;\">\n",
       "      <th></th>\n",
       "      <th>question</th>\n",
       "      <th>category</th>\n",
       "    </tr>\n",
       "  </thead>\n",
       "  <tbody>\n",
       "    <tr>\n",
       "      <th>0</th>\n",
       "      <td>tcp/udp의 차이점을 설명하라</td>\n",
       "      <td>백엔드</td>\n",
       "    </tr>\n",
       "    <tr>\n",
       "      <th>1</th>\n",
       "      <td>흐름제어기법중 슬라이딩 윈도우 방식에대해 설명하라</td>\n",
       "      <td>백엔드</td>\n",
       "    </tr>\n",
       "    <tr>\n",
       "      <th>2</th>\n",
       "      <td>브라우저에 네이버홈페이지 url을 입력했을때 일어나는 과정을 설명해라</td>\n",
       "      <td>백엔드</td>\n",
       "    </tr>\n",
       "    <tr>\n",
       "      <th>3</th>\n",
       "      <td>OSI 7계층에대해 설명하여라</td>\n",
       "      <td>백엔드</td>\n",
       "    </tr>\n",
       "    <tr>\n",
       "      <th>4</th>\n",
       "      <td>Restful API란?</td>\n",
       "      <td>백엔드</td>\n",
       "    </tr>\n",
       "    <tr>\n",
       "      <th>...</th>\n",
       "      <td>...</td>\n",
       "      <td>...</td>\n",
       "    </tr>\n",
       "    <tr>\n",
       "      <th>1492</th>\n",
       "      <td>인터뷰나 강의에 활용하기 위한 백데이터는 어느 수준까지 일반화 해서 사용해야 할까요?</td>\n",
       "      <td>프론트앤드</td>\n",
       "    </tr>\n",
       "    <tr>\n",
       "      <th>1493</th>\n",
       "      <td>고객사가 우리와 일하고 싶은데 현재는 capa가 되지 않습니다. 어떻게 대처해야 할까요?</td>\n",
       "      <td>프론트앤드</td>\n",
       "    </tr>\n",
       "    <tr>\n",
       "      <th>1494</th>\n",
       "      <td>어떤 정보들이 개인정보에 해당할까요? ID는 개인정보에 해당할까요? 이를 어기지 않...</td>\n",
       "      <td>백앤드</td>\n",
       "    </tr>\n",
       "    <tr>\n",
       "      <th>1495</th>\n",
       "      <td>국내 개인 정보 보호 현황에 대한 견해는 어떠한지요? 만약 사업을 진행하는데 장애요...</td>\n",
       "      <td>백앤드</td>\n",
       "    </tr>\n",
       "    <tr>\n",
       "      <th>1496</th>\n",
       "      <td>제3자 쿠키는 왜 문제가 되나요?</td>\n",
       "      <td>백앤드</td>\n",
       "    </tr>\n",
       "  </tbody>\n",
       "</table>\n",
       "<p>1497 rows × 2 columns</p>\n",
       "</div>"
      ],
      "text/plain": [
       "                                               question category\n",
       "0                                    tcp/udp의 차이점을 설명하라      백엔드\n",
       "1                           흐름제어기법중 슬라이딩 윈도우 방식에대해 설명하라      백엔드\n",
       "2                브라우저에 네이버홈페이지 url을 입력했을때 일어나는 과정을 설명해라      백엔드\n",
       "3                                      OSI 7계층에대해 설명하여라      백엔드\n",
       "4                                         Restful API란?      백엔드\n",
       "...                                                 ...      ...\n",
       "1492    인터뷰나 강의에 활용하기 위한 백데이터는 어느 수준까지 일반화 해서 사용해야 할까요?    프론트앤드\n",
       "1493  고객사가 우리와 일하고 싶은데 현재는 capa가 되지 않습니다. 어떻게 대처해야 할까요?    프론트앤드\n",
       "1494  어떤 정보들이 개인정보에 해당할까요? ID는 개인정보에 해당할까요? 이를 어기지 않...      백앤드\n",
       "1495  국내 개인 정보 보호 현황에 대한 견해는 어떠한지요? 만약 사업을 진행하는데 장애요...      백앤드\n",
       "1496                                 제3자 쿠키는 왜 문제가 되나요?      백앤드\n",
       "\n",
       "[1497 rows x 2 columns]"
      ]
     },
     "execution_count": 141,
     "metadata": {},
     "output_type": "execute_result"
    }
   ],
   "source": [
    "interview_df"
   ]
  },
  {
   "cell_type": "code",
   "execution_count": 143,
   "id": "d0244613-edb5-4f66-a2f9-9c3ee9ac0294",
   "metadata": {},
   "outputs": [
    {
     "data": {
      "text/plain": [
       "['tcp', '/', 'udp', '의', '차이점', '을', '설명', '하라']"
      ]
     },
     "execution_count": 143,
     "metadata": {},
     "output_type": "execute_result"
    }
   ],
   "source": [
    "import re\n",
    "from konlpy.tag import Okt\n",
    "\n",
    "\n",
    "okt=Okt()\n",
    "def okt_tokenizer(document):\n",
    "    okt_token=okt.morphs(document)\n",
    "    return okt_token\n",
    "okt_tokenizer(interview_data.iloc[0,0])"
   ]
  },
  {
   "cell_type": "code",
   "execution_count": null,
   "id": "e9a3f7d2-67b6-43c5-81d4-c662486940f6",
   "metadata": {},
   "outputs": [],
   "source": [
    "\n"
   ]
  },
  {
   "cell_type": "code",
   "execution_count": 149,
   "id": "e78d006b-6d47-43d9-9de8-2ad25d3e7a27",
   "metadata": {},
   "outputs": [
    {
     "ename": "ModuleNotFoundError",
     "evalue": "No module named 'fasttext'",
     "output_type": "error",
     "traceback": [
      "\u001b[1;31m---------------------------------------------------------------------------\u001b[0m",
      "\u001b[1;31mModuleNotFoundError\u001b[0m                       Traceback (most recent call last)",
      "Cell \u001b[1;32mIn[149], line 1\u001b[0m\n\u001b[1;32m----> 1\u001b[0m \u001b[38;5;28;01mimport\u001b[39;00m \u001b[38;5;21;01mfasttext\u001b[39;00m\u001b[38;5;21;01m.\u001b[39;00m\u001b[38;5;21;01mutil\u001b[39;00m\n\u001b[0;32m      3\u001b[0m \u001b[38;5;66;03m# 모델 다운로드 및 로드\u001b[39;00m\n\u001b[0;32m      4\u001b[0m fasttext\u001b[38;5;241m.\u001b[39mutil\u001b[38;5;241m.\u001b[39mdownload_model(\u001b[38;5;124m'\u001b[39m\u001b[38;5;124mko\u001b[39m\u001b[38;5;124m'\u001b[39m, if_exists\u001b[38;5;241m=\u001b[39m\u001b[38;5;124m'\u001b[39m\u001b[38;5;124mignore\u001b[39m\u001b[38;5;124m'\u001b[39m)\n",
      "\u001b[1;31mModuleNotFoundError\u001b[0m: No module named 'fasttext'"
     ]
    }
   ],
   "source": [
    "import fasttext.util\n",
    "\n",
    "# 모델 다운로드 및 로드\n",
    "fasttext.util.download_model('ko', if_exists='ignore')\n",
    "ft = fasttext.load_model('cc.ko.300.bin')\n",
    "\n",
    "def get_sentence_vector(sentence):\n",
    "    words = sentence.split()\n",
    "    word_vectors = [ft.get_word_vector(word) for word in words]\n",
    "    return np.mean(word_vectors, axis=0)\n",
    "\n",
    "interview_df['embeddings'] = interview_df['sentence_column'].apply(get_sentence_vector)"
   ]
  },
  {
   "cell_type": "code",
   "execution_count": 148,
   "id": "e35a1aa2-141a-4975-aab4-62d332ab63e3",
   "metadata": {},
   "outputs": [
    {
     "name": "stdout",
     "output_type": "stream",
     "text": [
      "Collecting fasttext\n",
      "  Downloading fasttext-0.9.3.tar.gz (73 kB)\n",
      "  Installing build dependencies: started\n",
      "  Installing build dependencies: finished with status 'done'\n",
      "  Getting requirements to build wheel: started\n",
      "  Getting requirements to build wheel: finished with status 'done'\n",
      "  Preparing metadata (pyproject.toml): started\n",
      "  Preparing metadata (pyproject.toml): finished with status 'done'\n",
      "Collecting pybind11>=2.2 (from fasttext)\n",
      "  Using cached pybind11-2.13.6-py3-none-any.whl.metadata (9.5 kB)\n",
      "Requirement already satisfied: setuptools>=0.7.0 in c:\\users\\82106\\anaconda3\\lib\\site-packages (from fasttext) (75.1.0)\n",
      "Requirement already satisfied: numpy in c:\\users\\82106\\anaconda3\\lib\\site-packages (from fasttext) (1.26.4)\n",
      "Using cached pybind11-2.13.6-py3-none-any.whl (243 kB)\n",
      "Building wheels for collected packages: fasttext\n",
      "  Building wheel for fasttext (pyproject.toml): started\n",
      "  Building wheel for fasttext (pyproject.toml): finished with status 'error'\n",
      "Failed to build fasttext\n",
      "Note: you may need to restart the kernel to use updated packages.\n"
     ]
    },
    {
     "name": "stderr",
     "output_type": "stream",
     "text": [
      "  error: subprocess-exited-with-error\n",
      "  \n",
      "  Building wheel for fasttext (pyproject.toml) did not run successfully.\n",
      "  exit code: 1\n",
      "  \n",
      "  [85 lines of output]\n",
      "  C:\\Users\\82106\\AppData\\Local\\Temp\\pip-build-env-1h1fnfbd\\overlay\\Lib\\site-packages\\setuptools\\dist.py:493: SetuptoolsDeprecationWarning: Invalid dash-separated options\n",
      "  !!\n",
      "  \n",
      "          ********************************************************************************\n",
      "          Usage of dash-separated 'description-file' will not be supported in future\n",
      "          versions. Please use the underscore name 'description_file' instead.\n",
      "  \n",
      "          By 2025-Mar-03, you need to update your project and remove deprecated calls\n",
      "          or your builds will no longer be supported.\n",
      "  \n",
      "          See https://setuptools.pypa.io/en/latest/userguide/declarative_config.html for details.\n",
      "          ********************************************************************************\n",
      "  \n",
      "  !!\n",
      "    opt = self.warn_dash_deprecation(opt, section)\n",
      "  running bdist_wheel\n",
      "  running build\n",
      "  running build_py\n",
      "  creating build\\lib.win-amd64-cpython-39\\fasttext\n",
      "  copying python\\fasttext_module\\fasttext\\FastText.py -> build\\lib.win-amd64-cpython-39\\fasttext\n",
      "  copying python\\fasttext_module\\fasttext\\__init__.py -> build\\lib.win-amd64-cpython-39\\fasttext\n",
      "  creating build\\lib.win-amd64-cpython-39\\fasttext\\util\n",
      "  copying python\\fasttext_module\\fasttext\\util\\util.py -> build\\lib.win-amd64-cpython-39\\fasttext\\util\n",
      "  copying python\\fasttext_module\\fasttext\\util\\__init__.py -> build\\lib.win-amd64-cpython-39\\fasttext\\util\n",
      "  creating build\\lib.win-amd64-cpython-39\\fasttext\\tests\n",
      "  copying python\\fasttext_module\\fasttext\\tests\\test_configurations.py -> build\\lib.win-amd64-cpython-39\\fasttext\\tests\n",
      "  copying python\\fasttext_module\\fasttext\\tests\\test_script.py -> build\\lib.win-amd64-cpython-39\\fasttext\\tests\n",
      "  copying python\\fasttext_module\\fasttext\\tests\\__init__.py -> build\\lib.win-amd64-cpython-39\\fasttext\\tests\n",
      "  running build_ext\n",
      "  building 'fasttext_pybind' extension\n",
      "  creating build\\temp.win-amd64-cpython-39\\Release\\python\\fasttext_module\\fasttext\\pybind\n",
      "  creating build\\temp.win-amd64-cpython-39\\Release\\src\n",
      "  \"C:\\Program Files\\Microsoft Visual Studio\\2022\\Community\\VC\\Tools\\MSVC\\14.33.31629\\bin\\HostX86\\x64\\cl.exe\" /c /nologo /O2 /W3 /GL /DNDEBUG /MD -IC:\\Users\\82106\\AppData\\Local\\Temp\\pip-build-env-1h1fnfbd\\overlay\\Lib\\site-packages\\pybind11\\include -IC:\\Users\\82106\\AppData\\Local\\Temp\\pip-build-env-1h1fnfbd\\overlay\\Lib\\site-packages\\pybind11\\include -Isrc -IC:\\Users\\82106\\anaconda3\\include -IC:\\Users\\82106\\anaconda3\\Include \"-IC:\\Program Files\\Microsoft Visual Studio\\2022\\Community\\VC\\Tools\\MSVC\\14.33.31629\\include\" \"-IC:\\Program Files\\Microsoft Visual Studio\\2022\\Community\\VC\\Tools\\MSVC\\14.33.31629\\ATLMFC\\include\" \"-IC:\\Program Files\\Microsoft Visual Studio\\2022\\Community\\VC\\Auxiliary\\VS\\include\" \"-IC:\\Program Files (x86)\\Windows Kits\\10\\include\\10.0.19041.0\\ucrt\" \"-IC:\\Program Files (x86)\\Windows Kits\\10\\\\include\\10.0.19041.0\\\\um\" \"-IC:\\Program Files (x86)\\Windows Kits\\10\\\\include\\10.0.19041.0\\\\shared\" \"-IC:\\Program Files (x86)\\Windows Kits\\10\\\\include\\10.0.19041.0\\\\winrt\" \"-IC:\\Program Files (x86)\\Windows Kits\\10\\\\include\\10.0.19041.0\\\\cppwinrt\" /EHsc /Tppython/fasttext_module/fasttext/pybind/fasttext_pybind.cc /Fobuild\\temp.win-amd64-cpython-39\\Release\\python\\fasttext_module\\fasttext\\pybind\\fasttext_pybind.obj /EHsc /DVERSION_INFO=\\\\\\\"0.9.3\\\\\\\"\n",
      "  fasttext_pybind.cc\n",
      "  The contents of <string_view> are available only with C++17 or later.\n",
      "  C:\\Users\\82106\\AppData\\Local\\Temp\\pip-install-dqn_tgnj\\fasttext_2929db79b8d3496bb011019cca96bfd0\\src\\dictionary.h(40): error C2039: 'string_view': 'std'의 멤버가 아닙니다.\n",
      "  C:\\Program Files\\Microsoft Visual Studio\\2022\\Community\\VC\\Tools\\MSVC\\14.33.31629\\include\\unordered_map(24): note: 'std' 선언을 참조하십시오.\n",
      "  C:\\Users\\82106\\AppData\\Local\\Temp\\pip-install-dqn_tgnj\\fasttext_2929db79b8d3496bb011019cca96bfd0\\src\\dictionary.h(40): error C4430: 형식 지정자가 없습니다. int로 가정합니다. 참고: C++에서는 기본 int를 지원하지 않습니다.\n",
      "  C:\\Users\\82106\\AppData\\Local\\Temp\\pip-install-dqn_tgnj\\fasttext_2929db79b8d3496bb011019cca96bfd0\\src\\dictionary.h(41): error C2039: 'string_view': 'std'의 멤버가 아닙니다.\n",
      "  C:\\Program Files\\Microsoft Visual Studio\\2022\\Community\\VC\\Tools\\MSVC\\14.33.31629\\include\\unordered_map(24): note: 'std' 선언을 참조하십시오.\n",
      "  C:\\Users\\82106\\AppData\\Local\\Temp\\pip-install-dqn_tgnj\\fasttext_2929db79b8d3496bb011019cca96bfd0\\src\\dictionary.h(41): error C4430: 형식 지정자가 없습니다. int로 가정합니다. 참고: C++에서는 기본 int를 지원하지 않습니다.\n",
      "  C:\\Users\\82106\\AppData\\Local\\Temp\\pip-install-dqn_tgnj\\fasttext_2929db79b8d3496bb011019cca96bfd0\\src\\dictionary.h(46): error C2039: 'string_view': 'std'의 멤버가 아닙니다.\n",
      "  C:\\Program Files\\Microsoft Visual Studio\\2022\\Community\\VC\\Tools\\MSVC\\14.33.31629\\include\\unordered_map(24): note: 'std' 선언을 참조하십시오.\n",
      "  C:\\Users\\82106\\AppData\\Local\\Temp\\pip-install-dqn_tgnj\\fasttext_2929db79b8d3496bb011019cca96bfd0\\src\\dictionary.h(46): error C4430: 형식 지정자가 없습니다. int로 가정합니다. 참고: C++에서는 기본 int를 지원하지 않습니다.\n",
      "  C:\\Users\\82106\\AppData\\Local\\Temp\\pip-install-dqn_tgnj\\fasttext_2929db79b8d3496bb011019cca96bfd0\\src\\dictionary.h(75): error C2039: 'string_view': 'std'의 멤버가 아닙니다.\n",
      "  C:\\Program Files\\Microsoft Visual Studio\\2022\\Community\\VC\\Tools\\MSVC\\14.33.31629\\include\\unordered_map(24): note: 'std' 선언을 참조하십시오.\n",
      "  C:\\Users\\82106\\AppData\\Local\\Temp\\pip-install-dqn_tgnj\\fasttext_2929db79b8d3496bb011019cca96bfd0\\src\\dictionary.h(75): error C4430: 형식 지정자가 없습니다. int로 가정합니다. 참고: C++에서는 기본 int를 지원하지 않습니다.\n",
      "  C:\\Users\\82106\\AppData\\Local\\Temp\\pip-install-dqn_tgnj\\fasttext_2929db79b8d3496bb011019cca96bfd0\\src\\dictionary.h(76): error C2039: 'string_view': 'std'의 멤버가 아닙니다.\n",
      "  C:\\Program Files\\Microsoft Visual Studio\\2022\\Community\\VC\\Tools\\MSVC\\14.33.31629\\include\\unordered_map(24): note: 'std' 선언을 참조하십시오.\n",
      "  C:\\Users\\82106\\AppData\\Local\\Temp\\pip-install-dqn_tgnj\\fasttext_2929db79b8d3496bb011019cca96bfd0\\src\\dictionary.h(76): error C4430: 형식 지정자가 없습니다. int로 가정합니다. 참고: C++에서는 기본 int를 지원하지 않습니다.\n",
      "  C:\\Users\\82106\\AppData\\Local\\Temp\\pip-install-dqn_tgnj\\fasttext_2929db79b8d3496bb011019cca96bfd0\\src\\dictionary.h(78): error C2039: 'string_view': 'std'의 멤버가 아닙니다.\n",
      "  C:\\Program Files\\Microsoft Visual Studio\\2022\\Community\\VC\\Tools\\MSVC\\14.33.31629\\include\\unordered_map(24): note: 'std' 선언을 참조하십시오.\n",
      "  C:\\Users\\82106\\AppData\\Local\\Temp\\pip-install-dqn_tgnj\\fasttext_2929db79b8d3496bb011019cca96bfd0\\src\\dictionary.h(78): error C4430: 형식 지정자가 없습니다. int로 가정합니다. 참고: C++에서는 기본 int를 지원하지 않습니다.\n",
      "  C:\\Users\\82106\\AppData\\Local\\Temp\\pip-install-dqn_tgnj\\fasttext_2929db79b8d3496bb011019cca96bfd0\\src\\dictionary.h(78): error C2535: 'fasttext::entry_type fasttext::Dictionary::getType(int32_t) const': 멤버 함수를 이미 정의했거나 선언했습니다.\n",
      "  C:\\Users\\82106\\AppData\\Local\\Temp\\pip-install-dqn_tgnj\\fasttext_2929db79b8d3496bb011019cca96bfd0\\src\\dictionary.h(77): note: 'fasttext::Dictionary::getType' 선언을 참조하십시오.\n",
      "  C:\\Users\\82106\\AppData\\Local\\Temp\\pip-install-dqn_tgnj\\fasttext_2929db79b8d3496bb011019cca96bfd0\\src\\dictionary.h(91): error C2039: 'string_view': 'std'의 멤버가 아닙니다.\n",
      "  C:\\Program Files\\Microsoft Visual Studio\\2022\\Community\\VC\\Tools\\MSVC\\14.33.31629\\include\\unordered_map(24): note: 'std' 선언을 참조하십시오.\n",
      "  C:\\Users\\82106\\AppData\\Local\\Temp\\pip-install-dqn_tgnj\\fasttext_2929db79b8d3496bb011019cca96bfd0\\src\\dictionary.h(91): error C4430: 형식 지정자가 없습니다. int로 가정합니다. 참고: C++에서는 기본 int를 지원하지 않습니다.\n",
      "  C:\\Users\\82106\\AppData\\Local\\Temp\\pip-install-dqn_tgnj\\fasttext_2929db79b8d3496bb011019cca96bfd0\\src\\dictionary.h(91): error C2146: 구문 오류: ')'이(가) 'str' 식별자 앞에 없습니다.\n",
      "  C:\\Users\\82106\\AppData\\Local\\Temp\\pip-install-dqn_tgnj\\fasttext_2929db79b8d3496bb011019cca96bfd0\\src\\dictionary.h(91): error C3646: 'str': 알 수 없는 재정의 지정자입니다.\n",
      "  C:\\Users\\82106\\AppData\\Local\\Temp\\pip-install-dqn_tgnj\\fasttext_2929db79b8d3496bb011019cca96bfd0\\src\\dictionary.h(91): error C2059: 구문 오류: ')'\n",
      "  C:\\Users\\82106\\AppData\\Local\\Temp\\pip-install-dqn_tgnj\\fasttext_2929db79b8d3496bb011019cca96bfd0\\src\\dictionary.h(91): error C2143: 구문 오류: ';'이(가) 'const' 앞에 없습니다.\n",
      "  C:\\Users\\82106\\AppData\\Local\\Temp\\pip-install-dqn_tgnj\\fasttext_2929db79b8d3496bb011019cca96bfd0\\src\\dictionary.h(91): error C4430: 형식 지정자가 없습니다. int로 가정합니다. 참고: C++에서는 기본 int를 지원하지 않습니다.\n",
      "  C:\\Users\\82106\\AppData\\Local\\Temp\\pip-install-dqn_tgnj\\fasttext_2929db79b8d3496bb011019cca96bfd0\\src\\dictionary.h(91): error C2208: 'const int': 이 형식을 사용하여 정의된 멤버가 없습니다.\n",
      "  C:\\Users\\82106\\AppData\\Local\\Temp\\pip-install-dqn_tgnj\\fasttext_2929db79b8d3496bb011019cca96bfd0\\src\\dictionary.h(91): warning C4091: ' ': 변수를 선언하지 않으면 'const int' 왼쪽은 무시됩니다.\n",
      "  C:\\Users\\82106\\AppData\\Local\\Temp\\pip-install-dqn_tgnj\\fasttext_2929db79b8d3496bb011019cca96bfd0\\src\\dictionary.h(103): error C2039: 'string_view': 'std'의 멤버가 아닙니다.\n",
      "  C:\\Program Files\\Microsoft Visual Studio\\2022\\Community\\VC\\Tools\\MSVC\\14.33.31629\\include\\unordered_map(24): note: 'std' 선언을 참조하십시오.\n",
      "  C:\\Users\\82106\\AppData\\Local\\Temp\\pip-install-dqn_tgnj\\fasttext_2929db79b8d3496bb011019cca96bfd0\\src\\dictionary.h(103): error C2061: 구문 오류: 식별자 'string_view'\n",
      "  python/fasttext_module/fasttext/pybind/fasttext_pybind.cc(71): error C2662: 'uint32_t fasttext::Dictionary::hash(const int)': 'this' 포인터를 '_Ty2'에서 'fasttext::Dictionary &'(으)로 변환할 수 없습니다.\n",
      "          with\n",
      "          [\n",
      "              _Ty2=const fasttext::Dictionary\n",
      "          ]\n",
      "  python/fasttext_module/fasttext/pybind/fasttext_pybind.cc(71): note: 변환하면서 한정자가 손실됩니다.\n",
      "  C:\\Users\\82106\\AppData\\Local\\Temp\\pip-install-dqn_tgnj\\fasttext_2929db79b8d3496bb011019cca96bfd0\\src\\dictionary.h(91): note: 'fasttext::Dictionary::hash' 선언을 참조하십시오.\n",
      "  python/fasttext_module/fasttext/pybind/fasttext_pybind.cc(72): error C2665: 'fasttext::Dictionary::getId': 2개의 오버로드 중 모든 인수 형식을 변환할 수 있는 오버로드가 없습니다.\n",
      "  C:\\Users\\82106\\AppData\\Local\\Temp\\pip-install-dqn_tgnj\\fasttext_2929db79b8d3496bb011019cca96bfd0\\src\\dictionary.h(76): note: 'int32_t fasttext::Dictionary::getId(const int,uint32_t) const'일 수 있습니다.\n",
      "  python/fasttext_module/fasttext/pybind/fasttext_pybind.cc(72): note: 'int32_t fasttext::Dictionary::getId(const int,uint32_t) const': 인수 1을(를) 'std::string'에서 'const int'(으)로 변환할 수 없습니다.\n",
      "  python/fasttext_module/fasttext/pybind/fasttext_pybind.cc(72): note: 이 변환을 수행할 수 있는 사용 가능한 사용자 정의 변환 연산자가 없거나 연산자를 호출할 수 없습니다.\n",
      "  C:\\Users\\82106\\AppData\\Local\\Temp\\pip-install-dqn_tgnj\\fasttext_2929db79b8d3496bb011019cca96bfd0\\src\\dictionary.h(76): note: 'fasttext::Dictionary::getId' 선언을 참조하십시오.\n",
      "  python/fasttext_module/fasttext/pybind/fasttext_pybind.cc(72): note: 인수 목록 '(std::string, uint32_t)'을(를) 일치시키는 동안\n",
      "  python/fasttext_module/fasttext/pybind/fasttext_pybind.cc(73): error C2664: 'fasttext::entry_type fasttext::Dictionary::getType(int32_t) const': 인수 1을(를) 'std::string'에서 'int32_t'(으)로 변환할 수 없습니다.\n",
      "  python/fasttext_module/fasttext/pybind/fasttext_pybind.cc(73): note: 이 변환을 수행할 수 있는 사용 가능한 사용자 정의 변환 연산자가 없거나 연산자를 호출할 수 없습니다.\n",
      "  C:\\Users\\82106\\AppData\\Local\\Temp\\pip-install-dqn_tgnj\\fasttext_2929db79b8d3496bb011019cca96bfd0\\src\\dictionary.h(77): note: 'fasttext::Dictionary::getType' 선언을 참조하십시오.\n",
      "  error: command 'C:\\\\Program Files\\\\Microsoft Visual Studio\\\\2022\\\\Community\\\\VC\\\\Tools\\\\MSVC\\\\14.33.31629\\\\bin\\\\HostX86\\\\x64\\\\cl.exe' failed with exit code 2\n",
      "  [end of output]\n",
      "  \n",
      "  note: This error originates from a subprocess, and is likely not a problem with pip.\n",
      "  ERROR: Failed building wheel for fasttext\n",
      "\n",
      "[notice] A new release of pip is available: 24.3.1 -> 25.0.1\n",
      "[notice] To update, run: python.exe -m pip install --upgrade pip\n",
      "ERROR: ERROR: Failed to build installable wheels for some pyproject.toml based projects (fasttext)\n"
     ]
    }
   ],
   "source": [
    "pip install fasttext"
   ]
  },
  {
   "cell_type": "code",
   "execution_count": null,
   "id": "c3982059-8c0a-4d21-b7c1-7bae3e65a275",
   "metadata": {},
   "outputs": [],
   "source": []
  }
 ],
 "metadata": {
  "kernelspec": {
   "display_name": "Python 3 (ipykernel)",
   "language": "python",
   "name": "python3"
  },
  "language_info": {
   "codemirror_mode": {
    "name": "ipython",
    "version": 3
   },
   "file_extension": ".py",
   "mimetype": "text/x-python",
   "name": "python",
   "nbconvert_exporter": "python",
   "pygments_lexer": "ipython3",
   "version": "3.9.21"
  }
 },
 "nbformat": 4,
 "nbformat_minor": 5
}
