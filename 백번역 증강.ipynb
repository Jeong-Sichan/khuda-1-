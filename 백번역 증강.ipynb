{
  "cells": [
    {
      "cell_type": "markdown",
      "source": [
        "데이터 증강을 하기 위해 백번역 기법을 사용하였다. 전처리 한 질문을 먼저 한국어에서 영어로 번역 한 후, 다시 영어 문장을 한국어로 역번역하여 새로운 질문을 생성하는 방식이다.\n",
        "이 과정에서 MBart 모델과 토크나이저를 활용하여 번역을 진행하였다. 이때 원문의 의미를 유지하면서 표현 방식이나 단어 선택, 어미 등만 달라지도록 하여 데이터를 증강했다.\n",
        "다만, 역번역 과정에서 의미나 뉘앙스가 조금씩 달라질 수 있기 때문에 결과 문장들을  검토하는 작업도 수행했다.\n",
        "\n"
      ],
      "metadata": {
        "id": "G--pKw0OekYb"
      }
    },
    {
      "cell_type": "code",
      "execution_count": null,
      "metadata": {
        "id": "533JT9Hq_8H1"
      },
      "outputs": [],
      "source": [
        "!pip install transformers torch sentencepiece"
      ]
    },
    {
      "cell_type": "markdown",
      "source": [
        "transformers, torch, sentencepiece 라이브러리를 설치한다. 모델 불러오기와 토크나이징에 필요한 패기지를 준비하는 단계이다."
      ],
      "metadata": {
        "id": "bTpSJTXMd5QN"
      }
    },
    {
      "cell_type": "code",
      "source": [
        "from transformers import MBartForConditionalGeneration, MBart50TokenizerFast"
      ],
      "metadata": {
        "id": "R3hccc0Jd64k"
      },
      "execution_count": 1,
      "outputs": []
    },
    {
      "cell_type": "markdown",
      "source": [
        "MBart 모델과 토크나이저 클래스를 불러온다.  MBartForConditionalGeneration은 조건부 문장 생성을 위한 모델이고, MBart50TokenizerFast는 빠른 토크나이저 클래스이다."
      ],
      "metadata": {
        "id": "eMA9oTxYd-gA"
      }
    },
    {
      "cell_type": "code",
      "source": [
        "model_name = \"facebook/mbart-large-50-many-to-many-mmt\"\n",
        "tokenizer = MBart50TokenizerFast.from_pretrained(model_name)\n",
        "model = MBartForConditionalGeneration.from_pretrained(model_name)\n"
      ],
      "metadata": {
        "id": "gG4RCj_GeA1E"
      },
      "execution_count": null,
      "outputs": []
    },
    {
      "cell_type": "markdown",
      "source": [
        "facebook/mbart-large-50-many-to-many-mmt' 모델을 불러오는 코드이다.\n",
        "모델 이름을 지정하고 토그나이저와 모델을 from_pretrained() 메서드를 사용하여 로드한다.\n"
      ],
      "metadata": {
        "id": "nG0uKSYyeC4x"
      }
    },
    {
      "cell_type": "code",
      "source": [
        "\n",
        "def back_translate(sentence):\n",
        "->백번역을 위한 함수이다. 두 번의 번역을 통해서 입력 문장의 표현을 다양화해준다.\n",
        "\n",
        "    tokenizer.src_lang = \"ko_KR\"\n",
        "    encoded_ko = tokenizer(sentence, return_tensors=\"pt\")\n",
        "    translated_ids = model.generate(**encoded_ko, forced_bos_token_id=tokenizer.lang_code_to_id[\"en_XX\"])\n",
        "    translated_text = tokenizer.batch_decode(translated_ids, skip_special_tokens=True)[0]\n",
        "\n",
        "    tokenizer.src_lang = \"en_XX\"\n",
        "    encoded_en = tokenizer(translated_text, return_tensors=\"pt\")\n",
        "    back_translated_ids = model.generate(**encoded_en, forced_bos_token_id=tokenizer.lang_code_to_id[\"ko_KR\"])\n",
        "    final_sentence = tokenizer.batch_decode(back_translated_ids, skip_special_tokens=True)[0]\n"
      ],
      "metadata": {
        "colab": {
          "base_uri": "https://localhost:8080/",
          "height": 110
        },
        "id": "iBaZXOcieFFA",
        "outputId": "3ffa758c-65d8-4e35-e1a4-bff99a1fa8fc"
      },
      "execution_count": 2,
      "outputs": [
        {
          "output_type": "error",
          "ename": "IndentationError",
          "evalue": "expected an indented block after function definition on line 1 (<ipython-input-2-f5048a161c15>, line 2)",
          "traceback": [
            "\u001b[0;36m  File \u001b[0;32m\"<ipython-input-2-f5048a161c15>\"\u001b[0;36m, line \u001b[0;32m2\u001b[0m\n\u001b[0;31m    ->백번역을 위한 함수이다. 두 번의 번역을 통해서 입력 문장의 표현을 다양화해준다.\u001b[0m\n\u001b[0m    ^\u001b[0m\n\u001b[0;31mIndentationError\u001b[0m\u001b[0;31m:\u001b[0m expected an indented block after function definition on line 1\n"
          ]
        }
      ]
    },
    {
      "cell_type": "markdown",
      "source": [
        "백번역을 위한 함수이다. 두 번의 번역을 통해서 입력 문장의 표현을 다양화해준다.\n"
      ],
      "metadata": {
        "id": "IX_j_5n5eJWo"
      }
    },
    {
      "cell_type": "markdown",
      "source": [
        "tokenizer.src_lang = \"ko_KR\"\n",
        "    encoded_ko = tokenizer(sentence, return_tensors=\"pt\")\n",
        "    translated_ids = model.generate(**encoded_ko, forced_bos_token_id=tokenizer.lang_code_to_id[\"en_XX\"])\n",
        "    translated_text = tokenizer.batch_decode(translated_ids, skip_special_tokens=True)[0]\n",
        "\n",
        "\n",
        "->한국어 문장을 영어로 번역하는 단계이다. 토그나이저의 src_lang을 \"ko_KR\"로 설정해 번역할 문장을 한국어로 지정한다.\n",
        "tokenizer()를 사용해서 문장을 인코딩하고 PyTorch 텐서 형식으로 변환한다.\n",
        "model.generate()를 호출할 때 forced_bos_token_id를 영어 시작 토큰(\"en_XX\")으로 지정해 영어 문장을 생성하게 한다.\n",
        "batch_decode()를 통해 생성된 토큰 시퀀스를 텍스트로 디코딩한다.\n",
        "\n"
      ],
      "metadata": {
        "id": "sjGQi44OeQP6"
      }
    },
    {
      "cell_type": "markdown",
      "source": [
        "tokenizer.src_lang = \"en_XX\"\n",
        "    encoded_en = tokenizer(translated_text, return_tensors=\"pt\")\n",
        "    back_translated_ids = model.generate(**encoded_en, forced_bos_token_id=tokenizer.lang_code_to_id[\"ko_KR\"])\n",
        "    final_sentence = tokenizer.batch_decode(back_translated_ids, skip_special_tokens=True)[0]\n",
        "\n",
        "    \n",
        "->번역된 영어 문장을 다시 한국어로 역번역하는 단계이다.\n",
        "src_lang을 \"en_XX\"로 설정하여 번역할 문장으로 영어로 지정한다.\n",
        "번역된 텍스트를 토크나이저로 인코딩한 후, forced_bos_token_id를 \"ko_KR\"로 지정해 한국어 문장을 생성하게 한다.\n",
        "생성된 토큰 시퀀스를 디코딩하여 최종 한국어 문장을 추출한다.\n"
      ],
      "metadata": {
        "id": "tzlje3ZfefyX"
      }
    },
    {
      "cell_type": "code",
      "source": [
        "df = pd.read_excel(\"input.xlsx\")\n",
        "df[\"back_translated\"] = df[\"question\"].apply(back_translate)"
      ],
      "metadata": {
        "colab": {
          "base_uri": "https://localhost:8080/",
          "height": 219
        },
        "collapsed": true,
        "id": "kYTKtV70gWML",
        "outputId": "f14aded1-9fc5-454c-fc73-f35f10a4c0f5"
      },
      "execution_count": 3,
      "outputs": [
        {
          "output_type": "error",
          "ename": "NameError",
          "evalue": "name 'pd' is not defined",
          "traceback": [
            "\u001b[0;31m---------------------------------------------------------------------------\u001b[0m",
            "\u001b[0;31mNameError\u001b[0m                                 Traceback (most recent call last)",
            "\u001b[0;32m<ipython-input-3-4a03c0ee60ae>\u001b[0m in \u001b[0;36m<cell line: 0>\u001b[0;34m()\u001b[0m\n\u001b[1;32m      1\u001b[0m \u001b[0;31m# 엑셀 파일 'input.xlsx'를 읽어 'question' 열에 있는 질문들에 백번역 함수를 적용\u001b[0m\u001b[0;34m\u001b[0m\u001b[0;34m\u001b[0m\u001b[0m\n\u001b[0;32m----> 2\u001b[0;31m \u001b[0mdf\u001b[0m \u001b[0;34m=\u001b[0m \u001b[0mpd\u001b[0m\u001b[0;34m.\u001b[0m\u001b[0mread_excel\u001b[0m\u001b[0;34m(\u001b[0m\u001b[0;34m\"input.xlsx\"\u001b[0m\u001b[0;34m)\u001b[0m\u001b[0;34m\u001b[0m\u001b[0;34m\u001b[0m\u001b[0m\n\u001b[0m\u001b[1;32m      3\u001b[0m \u001b[0mdf\u001b[0m\u001b[0;34m[\u001b[0m\u001b[0;34m\"back_translated\"\u001b[0m\u001b[0;34m]\u001b[0m \u001b[0;34m=\u001b[0m \u001b[0mdf\u001b[0m\u001b[0;34m[\u001b[0m\u001b[0;34m\"question\"\u001b[0m\u001b[0;34m]\u001b[0m\u001b[0;34m.\u001b[0m\u001b[0mapply\u001b[0m\u001b[0;34m(\u001b[0m\u001b[0mback_translate\u001b[0m\u001b[0;34m)\u001b[0m\u001b[0;34m\u001b[0m\u001b[0;34m\u001b[0m\u001b[0m\n\u001b[1;32m      4\u001b[0m \u001b[0;34m\u001b[0m\u001b[0m\n\u001b[1;32m      5\u001b[0m \u001b[0;31m# 백번역 결과가 포함된 데이터프레임을 'output.xlsx' 파일로 저장\u001b[0m\u001b[0;34m\u001b[0m\u001b[0;34m\u001b[0m\u001b[0m\n",
            "\u001b[0;31mNameError\u001b[0m: name 'pd' is not defined"
          ]
        }
      ]
    },
    {
      "cell_type": "markdown",
      "source": [
        "엑셀 파일 'input.xlsx'를 읽어 'question' 열에 있는 질문들에 백번역 함수를 적용"
      ],
      "metadata": {
        "id": "a00JyzREgbY7"
      }
    },
    {
      "cell_type": "code",
      "source": [
        "df.to_excel(\"output.xlsx\", index=False)"
      ],
      "metadata": {
        "id": "fTQwQ6eLgnqB"
      },
      "execution_count": null,
      "outputs": []
    },
    {
      "cell_type": "markdown",
      "source": [
        "백번역 결과가 포함된 데이터프레임을 'output.xlsx' 파일로 저장한다."
      ],
      "metadata": {
        "id": "69jd4GNggrcL"
      }
    }
  ],
  "metadata": {
    "colab": {
      "provenance": []
    },
    "kernelspec": {
      "display_name": "Python 3",
      "name": "python3"
    },
    "language_info": {
      "name": "python"
    }
  },
  "nbformat": 4,
  "nbformat_minor": 0
}